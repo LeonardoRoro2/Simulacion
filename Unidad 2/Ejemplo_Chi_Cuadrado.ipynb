{
  "nbformat": 4,
  "nbformat_minor": 0,
  "metadata": {
    "colab": {
      "provenance": [],
      "authorship_tag": "ABX9TyOpqzZkTw7B4a1RWQYzifa5",
      "include_colab_link": true
    },
    "kernelspec": {
      "name": "python3",
      "display_name": "Python 3"
    },
    "language_info": {
      "name": "python"
    }
  },
  "cells": [
    {
      "cell_type": "markdown",
      "metadata": {
        "id": "view-in-github",
        "colab_type": "text"
      },
      "source": [
        "<a href=\"https://colab.research.google.com/github/LeonardoRoro2/Simulacion/blob/main/Unidad%202/Ejemplo_Chi_Cuadrado.ipynb\" target=\"_parent\"><img src=\"https://colab.research.google.com/assets/colab-badge.svg\" alt=\"Open In Colab\"/></a>"
      ]
    },
    {
      "cell_type": "markdown",
      "source": [
        "# Simulación\n",
        "## Unidad 2\n",
        "### Introducción a la prueba de distribución uniforme Chi-Cuadrado\n",
        "Profesor: José Gabriel Rodríguez Rivas\n",
        "<br> Alumno: Romero Rodríguez Leonardo Antonio"
      ],
      "metadata": {
        "id": "uzCL4vI2Qs7p"
      }
    },
    {
      "cell_type": "code",
      "execution_count": 4,
      "metadata": {
        "colab": {
          "base_uri": "https://localhost:8080/"
        },
        "id": "fQub2k4hQhQU",
        "outputId": "0fdf3b4f-5817-4679-e642-05e5d0dac352"
      },
      "outputs": [
        {
          "output_type": "stream",
          "name": "stdout",
          "text": [
            "Numeros aleatorios generados:\n",
            "[0.79910715 0.5512225  0.37569321 0.59358243 0.69224596 0.4173973\n",
            " 0.07754978 0.03982385 0.75721833 0.41209833 0.09374869 0.92042909\n",
            " 0.8171445  0.12858729 0.00377543 0.37595432 0.06757919 0.59899145\n",
            " 0.83824656 0.48058655 0.59411691 0.81557831 0.98934028 0.42806563\n",
            " 0.72134323 0.28532615 0.17670301 0.73230092 0.40702489 0.85276952\n",
            " 0.78593548 0.74676471 0.20549156 0.74707682 0.4899096  0.94674402\n",
            " 0.6494384  0.76487625 0.82001718 0.66461742 0.76457556 0.51773316\n",
            " 0.72893597 0.27376095 0.58588377 0.06539943 0.32001159 0.82592248\n",
            " 0.74854517 0.7564521  0.10679535 0.47111462 0.50519974 0.70394496\n",
            " 0.94749746 0.11161936 0.47695304 0.76450449 0.1387845  0.84502204\n",
            " 0.96505177 0.83646051 0.68895119 0.89500942 0.68533158 0.46491518\n",
            " 0.31477088 0.75034097 0.97295335 0.98781184 0.81416935 0.5667632\n",
            " 0.76879193 0.24413099 0.5490416  0.1125378  0.55329064 0.96959327\n",
            " 0.79719491 0.15840261 0.28289478 0.19323678 0.13954014 0.99686499\n",
            " 0.36225995 0.74014733 0.80197096 0.28044519 0.4270552  0.69731869\n",
            " 0.13518813 0.3881145  0.85867954 0.28817108 0.06601497 0.87943986\n",
            " 0.82057718 0.09027728 0.4425571  0.79227442]\n",
            "\fFrecuencias observadas por intervalo:  [ 8 10  7  6 11 10  6 18 15  9]\n",
            "Frecuencia esperada por intervalo:  10.0\n",
            "Chi-Cuadrado:  13.6\n",
            "Valor p:  0.13728235312658452\n",
            "\n",
            "No podemos rechazar la hipótesis nula: la distribución parece uniforme\n"
          ]
        }
      ],
      "source": [
        "import numpy as np\n",
        "import scipy.stats as stats\n",
        "\n",
        "# 1.- Generar 100 números aleatorios en el rango (0,1)\n",
        "n = 100\n",
        "numeros = np.random.uniform(0,1,n)\n",
        "\n",
        "# Mostrar los números aleatorios generados\n",
        "print(\"Numeros aleatorios generados:\")\n",
        "print(numeros)\n",
        "\n",
        "# 2.- Dividir el rango (0,1) en 10 intervalos(se puede ajustar según necesidades)\n",
        "intervalos = 10\n",
        "datos_observados, bin_edges = np.histogram(numeros, bins = intervalos)\n",
        "\n",
        "# 3.- Números esperados en cada intervalo si la distribución es uniforme\n",
        "datos_esperados = n/intervalos # Debería caer la mismo cantidad de números en cada intervalo\n",
        "\n",
        "# 4.- Prueba de Chi-Cuadrado\n",
        "estadistica_chi2, valor_p = stats.chisquare(datos_observados,[datos_esperados]*intervalos)\n",
        "\n",
        "# 5.- Mostrar Resultados\n",
        "print(\"\\fFrecuencias observadas por intervalo: \",datos_observados)\n",
        "print(\"Frecuencia esperada por intervalo: \", datos_esperados)\n",
        "print(\"Chi-Cuadrado: \", estadistica_chi2)\n",
        "print(\"Valor p: \", valor_p)\n",
        "\n",
        "# 6.- Interpretación del resultado\n",
        "if valor_p < 0.05:\n",
        "    print(\"\\nRechazamos la hipótesis nula: la distribución no es uniforme.\")\n",
        "else:\n",
        "    print(\"\\nNo podemos rechazar la hipótesis nula: la distribución parece uniforme\")"
      ]
    }
  ]
}