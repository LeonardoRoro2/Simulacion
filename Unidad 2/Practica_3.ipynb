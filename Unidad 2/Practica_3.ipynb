{
  "nbformat": 4,
  "nbformat_minor": 0,
  "metadata": {
    "colab": {
      "provenance": [],
      "authorship_tag": "ABX9TyPIIneBc79kEFzSA2BE4puJ",
      "include_colab_link": true
    },
    "kernelspec": {
      "name": "python3",
      "display_name": "Python 3"
    },
    "language_info": {
      "name": "python"
    }
  },
  "cells": [
    {
      "cell_type": "markdown",
      "metadata": {
        "id": "view-in-github",
        "colab_type": "text"
      },
      "source": [
        "<a href=\"https://colab.research.google.com/github/LeonardoRoro2/Simulacion/blob/main/Unidad%202/Practica_3.ipynb\" target=\"_parent\"><img src=\"https://colab.research.google.com/assets/colab-badge.svg\" alt=\"Open In Colab\"/></a>"
      ]
    },
    {
      "cell_type": "markdown",
      "source": [
        "#Simulación\n",
        "##Unidad 2\n",
        "###Pruebas estadística de uniformidad de Kolmogorov-Smirnov\n",
        "Profesor: José Gabriel Rodríguez Rivas<br>\n",
        "Alumno: Romero Rodríguez Leonardo Antonio\n"
      ],
      "metadata": {
        "id": "NHD7McYzAyvE"
      }
    },
    {
      "cell_type": "code",
      "execution_count": 1,
      "metadata": {
        "colab": {
          "base_uri": "https://localhost:8080/"
        },
        "id": "kQDnFdsNAxiK",
        "outputId": "4e91d31a-2d81-40f3-eb84-5c99d3eac25e"
      },
      "outputs": [
        {
          "output_type": "stream",
          "name": "stdout",
          "text": [
            "Estadístico de Kolmogorov-Smirnov: 0.07475566392798912\n",
            "Valor p: 0.6044473895899565\n",
            "No se rechaza la hipótesis nula: Los datos parecen provenir de una distribución uniforme.\n"
          ]
        }
      ],
      "source": [
        "# Realizar un programa en Python que realice 100 números aleatorios y realice la prueba de uniformidad de Kolmogorov-Smirnov\n",
        "import numpy as np\n",
        "import scipy.stats as stats\n",
        "\n",
        "# Generar 100 números aleatorios entre 0 y 1\n",
        "random_numbers = np.random.uniform(0, 1, 100)\n",
        "\n",
        "# Realizar la prueba de Kolmogorov-Smirnov\n",
        "ks_statistic, p_value = stats.kstest(random_numbers, 'uniform', args=(0, 1))\n",
        "\n",
        "# Mostrar resultados\n",
        "print(f'Estadístico de Kolmogorov-Smirnov: {ks_statistic}')\n",
        "print(f'Valor p: {p_value}')\n",
        "\n",
        "# Evaluar la hipótesis nula\n",
        "alpha = 0.05\n",
        "if p_value > alpha:\n",
        "    print(\"No se rechaza la hipótesis nula: Los datos parecen provenir de una distribución uniforme.\")\n",
        "else:\n",
        "    print(\"Se rechaza la hipótesis nula: Los datos no siguen una distribución uniforme.\")\n"
      ]
    }
  ]
}